{
 "cells": [
  {
   "cell_type": "markdown",
   "metadata": {},
   "source": [
    "This try to install the required libraries in your Jupyter server. Run once."
   ]
  },
  {
   "cell_type": "code",
   "execution_count": 1,
   "metadata": {},
   "outputs": [
    {
     "name": "stdout",
     "output_type": "stream",
     "text": [
      "Looking in indexes: https://pypi.org/simple, https://www.piwheels.org/simple\n",
      "Requirement already satisfied: pyserial in ./venv/lib/python3.7/site-packages (3.5)\n",
      "Looking in indexes: https://pypi.org/simple, https://www.piwheels.org/simple\n",
      "Requirement already satisfied: pyvisa-py in ./venv/lib/python3.7/site-packages (0.5.2)\n",
      "Requirement already satisfied: typing-extensions in ./venv/lib/python3.7/site-packages (from pyvisa-py) (4.0.1)\n",
      "Requirement already satisfied: pyvisa>=1.11.0 in ./venv/lib/python3.7/site-packages (from pyvisa-py) (1.11.3)\n",
      "Requirement already satisfied: importlib-metadata; python_version < \"3.8\" in ./venv/lib/python3.7/site-packages (from pyvisa-py) (4.8.2)\n",
      "Requirement already satisfied: zipp>=0.5 in ./venv/lib/python3.7/site-packages (from importlib-metadata; python_version < \"3.8\"->pyvisa-py) (3.6.0)\n",
      "Looking in indexes: https://pypi.org/simple, https://www.piwheels.org/simple\n",
      "Requirement already satisfied: pyvisa in ./venv/lib/python3.7/site-packages (1.11.3)\n",
      "Requirement already satisfied: importlib-metadata; python_version < \"3.8\" in ./venv/lib/python3.7/site-packages (from pyvisa) (4.8.2)\n",
      "Requirement already satisfied: typing-extensions in ./venv/lib/python3.7/site-packages (from pyvisa) (4.0.1)\n",
      "Requirement already satisfied: zipp>=0.5 in ./venv/lib/python3.7/site-packages (from importlib-metadata; python_version < \"3.8\"->pyvisa) (3.6.0)\n"
     ]
    }
   ],
   "source": [
    "import sys\n",
    "!{sys.executable} -m pip install pyserial\n",
    "!{sys.executable} -m pip install pyvisa-py\n",
    "!{sys.executable} -m pip install pyvisa"
   ]
  },
  {
   "cell_type": "markdown",
   "metadata": {},
   "source": [
    "Import the library and select the python visa backend\n",
    "\n",
    "The command list_resources() shows a list of connected instruments. you can use the different ports to be used in the open_resource() call of the next cell."
   ]
  },
  {
   "cell_type": "code",
   "execution_count": 32,
   "metadata": {},
   "outputs": [
    {
     "data": {
      "text/plain": [
       "('ASRL/dev/ttyUSB4::INSTR',\n",
       " 'ASRL/dev/ttyUSB3::INSTR',\n",
       " 'ASRL/dev/ttyUSB2::INSTR',\n",
       " 'ASRL/dev/ttyUSB1::INSTR',\n",
       " 'ASRL/dev/ttyUSB0::INSTR',\n",
       " 'ASRL/dev/ttyAMA0::INSTR')"
      ]
     },
     "execution_count": 32,
     "metadata": {},
     "output_type": "execute_result"
    }
   ],
   "source": [
    "import pyvisa\n",
    "import time\n",
    "\n",
    "rm = pyvisa.ResourceManager('@py')\n",
    "rm.list_resources()"
   ]
  },
  {
   "cell_type": "markdown",
   "metadata": {},
   "source": [
    "This cell open the specified instrument and shows its identification. Use the identification to check that you are speaking with the correct instrument."
   ]
  },
  {
   "cell_type": "code",
   "execution_count": 56,
   "metadata": {},
   "outputs": [
    {
     "name": "stdout",
     "output_type": "stream",
     "text": [
      "Keysight Technologies,U1242C,MY59190061,V1.22\n",
      "\n"
     ]
    }
   ],
   "source": [
    "dmm = rm.open_resource('ASRL/dev/ttyUSB1')\n",
    "#dmm.write(\"*RST\")\n",
    "#time.sleep(10)\n",
    "print(dmm.query(\"*IDN?\")) "
   ]
  },
  {
   "cell_type": "code",
   "execution_count": 83,
   "metadata": {},
   "outputs": [
    {
     "name": "stdout",
     "output_type": "stream",
     "text": [
      "Measure:  +1.79100000E+01\n",
      "\n"
     ]
    }
   ],
   "source": [
    "measure = dmm.query(\"READ?\")\n",
    "print(\"Measure: \", measure)"
   ]
  }
 ],
 "metadata": {
  "interpreter": {
   "hash": "b63b1596022c923bb099337fa8ddea74a27fdc5f87847c9d81836821997c91c1"
  },
  "kernelspec": {
   "display_name": "Python 3.9.9 64-bit ('venv': venv)",
   "language": "python",
   "name": "python3"
  },
  "language_info": {
   "codemirror_mode": {
    "name": "ipython",
    "version": 3
   },
   "file_extension": ".py",
   "mimetype": "text/x-python",
   "name": "python",
   "nbconvert_exporter": "python",
   "pygments_lexer": "ipython3",
   "version": "3.7.3"
  },
  "orig_nbformat": 4
 },
 "nbformat": 4,
 "nbformat_minor": 2
}
