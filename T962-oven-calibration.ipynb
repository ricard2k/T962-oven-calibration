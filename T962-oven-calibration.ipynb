{
 "cells": [
  {
   "cell_type": "markdown",
   "metadata": {},
   "source": [
    "This try to install the required libraries in your Jupyter server. Run once."
   ]
  },
  {
   "cell_type": "code",
   "execution_count": null,
   "metadata": {},
   "outputs": [],
   "source": [
    "import sys\n",
    "!{sys.executable} -m pip install pyserial\n",
    "!{sys.executable} -m pip install pyvisa-py\n",
    "!{sys.executable} -m pip install pyvisa\n",
    "!{sys.executable} -m pip install pandas\n",
    "!{sys.executable} -m pip install matplotlib"
   ]
  },
  {
   "cell_type": "markdown",
   "metadata": {},
   "source": [
    "Import the library and select the python visa backend\n",
    "\n",
    "The command list_resources() shows a list of connected instruments. you can use the different ports to be used in the open_resource() call of the next cell."
   ]
  },
  {
   "cell_type": "code",
   "execution_count": null,
   "metadata": {},
   "outputs": [],
   "source": [
    "import pyvisa\n",
    "import time\n",
    "\n",
    "rm = pyvisa.ResourceManager('@py')\n",
    "rm.list_resources()"
   ]
  },
  {
   "cell_type": "markdown",
   "metadata": {},
   "source": [
    "This cell opens the specified instrument and shows its identification. Use the identification to check that you are speaking with the correct instrument."
   ]
  },
  {
   "cell_type": "code",
   "execution_count": null,
   "metadata": {},
   "outputs": [],
   "source": [
    "dmm = rm.open_resource('ASRL/dev/ttyUSB1')\n",
    "#dmm.write(\"*RST\")\n",
    "#time.sleep(10)\n",
    "print(dmm.query(\"*IDN?\")) "
   ]
  },
  {
   "cell_type": "markdown",
   "metadata": {},
   "source": [
    "The next cell reads the oven values and combine it with the temperature from digital multimeter (dmm)\n",
    "\n",
    "Update te variable serialOven to the port where your oven is connected."
   ]
  },
  {
   "cell_type": "code",
   "execution_count": null,
   "metadata": {},
   "outputs": [],
   "source": [
    "import serial\n",
    "import re\n",
    "from datetime import datetime\n",
    "import pandas as pd\n",
    "\n",
    "serialOven = '/dev/ttyUSB3'\n",
    "\n",
    "ovenMeasureExpression = re.compile(r\"^\\s*(\\d*.\\d*),\\s*(\\d*.\\d*),\\s*(\\d*.\\d*),\\s*(\\d*.\\d*),\\s*(\\d*.\\d*),\\s*(\\d*),\\s*(\\d*.\\d*),\\s*(\\d*),\\s*(\\d*),\\s*(\\d*.\\d*),\\s*([a-zA-Z-]*)\")\n",
    "ovenEndExpression = re.compile(r\"([Ee]nd bake)|([Rr]eflow done)\")\n",
    "\n",
    "measures = []\n",
    "\n",
    "with serial.Serial(serialOven, 115200, timeout=5, bytesize=8, parity=serial.PARITY_NONE, stopbits=1) as ser:\n",
    "    while True: \n",
    "        ovenRead = str(ser.readline(), 'ascii')\n",
    "        match = re.search(ovenMeasureExpression, ovenRead)\n",
    "        if match:\n",
    "            dmmTemp = dmm.query(\"READ?\")\n",
    "            measures.append([datetime.now(), match.group(1), match.group(2), match.group(3), match.group(6), match.group(7), match.group(8), match.group(9), match.group(10), match.group(11), dmmTemp])\n",
    "        elif ovenEndExpression.match(ovenRead):\n",
    "            break\n",
    "        else:\n",
    "            print (ovenRead)\n",
    "\n",
    "dfMeasures = pd.DataFrame(measures, columns = ['timestamp', 'ovenTime', 'temp0', 'temp1', 'ovenSet', 'actual', 'heat', 'fan', 'coldJunction', 'mode', 'dmmTemp'])\n",
    "dfMeasures['ovenTime'] = pd.to_numeric(dfMeasures['ovenTime'],errors='coerce')\n",
    "dfMeasures['temp0'] = pd.to_numeric(dfMeasures['temp0'],errors='coerce')\n",
    "dfMeasures['temp1'] = pd.to_numeric(dfMeasures['temp1'],errors='coerce')\n",
    "dfMeasures['ovenSet'] = pd.to_numeric(dfMeasures['ovenSet'],errors='coerce')\n",
    "dfMeasures['actual'] = pd.to_numeric(dfMeasures['actual'],errors='coerce')\n",
    "dfMeasures['heat'] = pd.to_numeric(dfMeasures['heat'],errors='coerce')\n",
    "dfMeasures['fan'] = pd.to_numeric(dfMeasures['fan'],errors='coerce')\n",
    "dfMeasures['coldJunction'] = pd.to_numeric(dfMeasures['coldJunction'],errors='coerce')\n",
    "dfMeasures['dmmTemp'] = pd.to_numeric(dfMeasures['dmmTemp'],errors='coerce')"
   ]
  },
  {
   "cell_type": "markdown",
   "metadata": {},
   "source": [
    "Plot measured data"
   ]
  },
  {
   "cell_type": "code",
   "execution_count": null,
   "metadata": {},
   "outputs": [],
   "source": [
    "import matplotlib.pyplot as plt\n",
    "\n",
    "fig= plt.figure(figsize=(25,12))\n",
    "axes= fig.add_axes([0.1,0.1,0.8,0.8])\n",
    "\n",
    "plt.plot( 'timestamp', 'ovenSet', data=dfMeasures, marker='', color='red', linewidth=4, label='Set')\n",
    "axes.plot( 'timestamp', 'actual', data=dfMeasures, marker='', color='olive', linewidth=4, label='Oven')\n",
    "axes.plot( 'timestamp', 'dmmTemp', data=dfMeasures, marker='', color='skyblue', linewidth=4, label='dmm')\n",
    "\n",
    "axes.legend()\n",
    "\n",
    "plt.show()\n"
   ]
  }
 ],
 "metadata": {
  "interpreter": {
   "hash": "b63b1596022c923bb099337fa8ddea74a27fdc5f87847c9d81836821997c91c1"
  },
  "kernelspec": {
   "display_name": "Python 3.9.9 64-bit ('venv': venv)",
   "language": "python",
   "name": "python3"
  },
  "language_info": {
   "codemirror_mode": {
    "name": "ipython",
    "version": 3
   },
   "file_extension": ".py",
   "mimetype": "text/x-python",
   "name": "python",
   "nbconvert_exporter": "python",
   "pygments_lexer": "ipython3",
   "version": "3.7.3"
  },
  "orig_nbformat": 4
 },
 "nbformat": 4,
 "nbformat_minor": 2
}
