{
 "cells": [
  {
   "cell_type": "markdown",
   "metadata": {},
   "source": [
    "This try to install the required libraries in your Jupyter server. Run once."
   ]
  },
  {
   "cell_type": "code",
   "execution_count": 1,
   "metadata": {},
   "outputs": [
    {
     "name": "stdout",
     "output_type": "stream",
     "text": [
      "Looking in indexes: https://pypi.org/simple, https://www.piwheels.org/simple\n",
      "Requirement already satisfied: pyserial in ./venv/lib/python3.7/site-packages (3.5)\n",
      "Looking in indexes: https://pypi.org/simple, https://www.piwheels.org/simple\n",
      "Requirement already satisfied: pyvisa-py in ./venv/lib/python3.7/site-packages (0.5.2)\n",
      "Requirement already satisfied: typing-extensions in ./venv/lib/python3.7/site-packages (from pyvisa-py) (4.0.1)\n",
      "Requirement already satisfied: pyvisa>=1.11.0 in ./venv/lib/python3.7/site-packages (from pyvisa-py) (1.11.3)\n",
      "Requirement already satisfied: importlib-metadata; python_version < \"3.8\" in ./venv/lib/python3.7/site-packages (from pyvisa-py) (4.8.2)\n",
      "Requirement already satisfied: zipp>=0.5 in ./venv/lib/python3.7/site-packages (from importlib-metadata; python_version < \"3.8\"->pyvisa-py) (3.6.0)\n",
      "Looking in indexes: https://pypi.org/simple, https://www.piwheels.org/simple\n",
      "Requirement already satisfied: pyvisa in ./venv/lib/python3.7/site-packages (1.11.3)\n",
      "Requirement already satisfied: importlib-metadata; python_version < \"3.8\" in ./venv/lib/python3.7/site-packages (from pyvisa) (4.8.2)\n",
      "Requirement already satisfied: typing-extensions in ./venv/lib/python3.7/site-packages (from pyvisa) (4.0.1)\n",
      "Requirement already satisfied: zipp>=0.5 in ./venv/lib/python3.7/site-packages (from importlib-metadata; python_version < \"3.8\"->pyvisa) (3.6.0)\n"
     ]
    }
   ],
   "source": [
    "import sys\n",
    "!{sys.executable} -m pip install pyserial\n",
    "!{sys.executable} -m pip install pyvisa-py\n",
    "!{sys.executable} -m pip install pyvisa"
   ]
  },
  {
   "cell_type": "markdown",
   "metadata": {},
   "source": [
    "Import the library and select the python visa backend\n",
    "\n",
    "The command list_resources() shows a list of connected instruments. you can use the different ports to be used in the open_resource() call of the next cell."
   ]
  },
  {
   "cell_type": "code",
   "execution_count": 87,
   "metadata": {},
   "outputs": [
    {
     "data": {
      "text/plain": [
       "('ASRL/dev/ttyUSB4::INSTR',\n",
       " 'ASRL/dev/ttyUSB3::INSTR',\n",
       " 'ASRL/dev/ttyUSB2::INSTR',\n",
       " 'ASRL/dev/ttyUSB1::INSTR',\n",
       " 'ASRL/dev/ttyUSB0::INSTR',\n",
       " 'ASRL/dev/ttyAMA0::INSTR')"
      ]
     },
     "execution_count": 87,
     "metadata": {},
     "output_type": "execute_result"
    }
   ],
   "source": [
    "import pyvisa\n",
    "import time\n",
    "from datetime import datetime\n",
    "\n",
    "rm = pyvisa.ResourceManager('@py')\n",
    "rm.list_resources()"
   ]
  },
  {
   "cell_type": "markdown",
   "metadata": {},
   "source": [
    "This cell open the specified instrument and shows its identification. Use the identification to check that you are speaking with the correct instrument."
   ]
  },
  {
   "cell_type": "code",
   "execution_count": 56,
   "metadata": {},
   "outputs": [
    {
     "name": "stdout",
     "output_type": "stream",
     "text": [
      "Keysight Technologies,U1242C,MY59190061,V1.22\n",
      "\n"
     ]
    }
   ],
   "source": [
    "dmm = rm.open_resource('ASRL/dev/ttyUSB1')\n",
    "#dmm.write(\"*RST\")\n",
    "#time.sleep(10)\n",
    "print(dmm.query(\"*IDN?\")) "
   ]
  },
  {
   "cell_type": "code",
   "execution_count": 88,
   "metadata": {},
   "outputs": [
    {
     "name": "stdout",
     "output_type": "stream",
     "text": [
      "21:50:42.596828  Measure:  +1.78000000E+01\n",
      "\n",
      "21:50:42.628386  Measure:  +1.78000000E+01\n",
      "\n",
      "21:50:42.659613  Measure:  +1.78000000E+01\n",
      "\n",
      "21:50:42.696763  Measure:  +1.78000000E+01\n",
      "\n",
      "21:50:42.726925  Measure:  +1.78000000E+01\n",
      "\n",
      "21:50:42.757132  Measure:  +1.78000000E+01\n",
      "\n",
      "21:50:42.803565  Measure:  +1.78000000E+01\n",
      "\n",
      "21:50:42.834016  Measure:  +1.78000000E+01\n",
      "\n",
      "21:50:42.864366  Measure:  +1.78000000E+01\n",
      "\n",
      "21:50:42.898495  Measure:  +1.78000000E+01\n",
      "\n",
      "21:50:42.928735  Measure:  +1.78000000E+01\n",
      "\n",
      "21:50:42.960079  Measure:  +1.78000000E+01\n",
      "\n",
      "21:50:43.001836  Measure:  +1.77900000E+01\n",
      "\n",
      "21:50:43.032013  Measure:  +1.77900000E+01\n",
      "\n",
      "21:50:43.062275  Measure:  +1.77900000E+01\n",
      "\n",
      "21:50:43.100138  Measure:  +1.77900000E+01\n",
      "\n",
      "21:50:43.132562  Measure:  +1.77900000E+01\n",
      "\n",
      "21:50:43.164921  Measure:  +1.77900000E+01\n",
      "\n",
      "21:50:43.205167  Measure:  +1.77800000E+01\n",
      "\n",
      "21:50:43.235370  Measure:  +1.77800000E+01\n",
      "\n",
      "21:50:43.265565  Measure:  +1.77800000E+01\n",
      "\n",
      "21:50:43.305100  Measure:  +1.77800000E+01\n",
      "\n",
      "21:50:43.335318  Measure:  +1.77800000E+01\n",
      "\n",
      "21:50:43.365528  Measure:  +1.77800000E+01\n",
      "\n",
      "21:50:43.406831  Measure:  +1.77800000E+01\n",
      "\n",
      "21:50:43.436947  Measure:  +1.77800000E+01\n",
      "\n",
      "21:50:43.467151  Measure:  +1.77800000E+01\n",
      "\n",
      "21:50:43.506828  Measure:  +1.77800000E+01\n",
      "\n",
      "21:50:43.537135  Measure:  +1.77800000E+01\n",
      "\n",
      "21:50:43.569572  Measure:  +1.77800000E+01\n",
      "\n",
      "21:50:43.610216  Measure:  +1.77700000E+01\n",
      "\n",
      "21:50:43.645216  Measure:  +1.77700000E+01\n",
      "\n",
      "21:50:43.677527  Measure:  +1.77700000E+01\n",
      "\n",
      "21:50:43.710121  Measure:  +1.77700000E+01\n",
      "\n",
      "21:50:43.740355  Measure:  +1.77700000E+01\n",
      "\n",
      "21:50:43.776742  Measure:  +1.77700000E+01\n",
      "\n",
      "21:50:43.816890  Measure:  +1.77800000E+01\n",
      "\n",
      "21:50:43.847099  Measure:  +1.77800000E+01\n",
      "\n",
      "21:50:43.877277  Measure:  +1.77800000E+01\n",
      "\n",
      "21:50:43.916820  Measure:  +1.77800000E+01\n",
      "\n",
      "21:50:43.947179  Measure:  +1.77800000E+01\n",
      "\n",
      "21:50:43.977429  Measure:  +1.77800000E+01\n",
      "\n",
      "21:50:44.018519  Measure:  +1.77800000E+01\n",
      "\n",
      "21:50:44.048683  Measure:  +1.77800000E+01\n",
      "\n",
      "21:50:44.078881  Measure:  +1.77800000E+01\n",
      "\n",
      "21:50:44.119892  Measure:  +1.77800000E+01\n",
      "\n",
      "21:50:44.151831  Measure:  +1.77800000E+01\n",
      "\n",
      "21:50:44.182101  Measure:  +1.77800000E+01\n",
      "\n",
      "21:50:44.223530  Measure:  +1.77800000E+01\n",
      "\n",
      "21:50:44.253667  Measure:  +1.77800000E+01\n",
      "\n"
     ]
    }
   ],
   "source": [
    "for _ in range(50): \n",
    "    measure = dmm.query(\"READ?\")\n",
    "    timestampStr = datetime.now().strftime(\"%H:%M:%S.%f\")\n",
    "    print(timestampStr, \" Measure: \", measure)"
   ]
  }
 ],
 "metadata": {
  "interpreter": {
   "hash": "b63b1596022c923bb099337fa8ddea74a27fdc5f87847c9d81836821997c91c1"
  },
  "kernelspec": {
   "display_name": "Python 3.9.9 64-bit ('venv': venv)",
   "language": "python",
   "name": "python3"
  },
  "language_info": {
   "codemirror_mode": {
    "name": "ipython",
    "version": 3
   },
   "file_extension": ".py",
   "mimetype": "text/x-python",
   "name": "python",
   "nbconvert_exporter": "python",
   "pygments_lexer": "ipython3",
   "version": "3.7.3"
  },
  "orig_nbformat": 4
 },
 "nbformat": 4,
 "nbformat_minor": 2
}
